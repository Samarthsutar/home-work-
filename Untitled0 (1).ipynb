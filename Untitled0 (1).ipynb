{
  "nbformat": 4,
  "nbformat_minor": 0,
  "metadata": {
    "colab": {
      "provenance": []
    },
    "kernelspec": {
      "name": "python3",
      "display_name": "Python 3"
    },
    "language_info": {
      "name": "python"
    }
  },
  "cells": [
    {
      "cell_type": "code",
      "execution_count": 1,
      "metadata": {
        "id": "elFqZ-zrFWqO"
      },
      "outputs": [],
      "source": [
        "s=\" this is my first python programming\""
      ]
    },
    {
      "cell_type": "code",
      "source": [
        "## 1 try to etract data from index 1 to index 300 with jump of three"
      ],
      "metadata": {
        "id": "6RLjoYlSKX4O"
      },
      "execution_count": null,
      "outputs": []
    },
    {
      "cell_type": "code",
      "source": [
        "s[1:301:3]"
      ],
      "metadata": {
        "colab": {
          "base_uri": "https://localhost:8080/",
          "height": 35
        },
        "id": "xo4fb4LwFn79",
        "outputId": "591a274a-6b4d-4665-edae-61a9884dfa47"
      },
      "execution_count": 11,
      "outputs": [
        {
          "output_type": "execute_result",
          "data": {
            "text/plain": [
              "'tssyityopgmn'"
            ],
            "application/vnd.google.colaboratory.intrinsic+json": {
              "type": "string"
            }
          },
          "metadata": {},
          "execution_count": 11
        }
      ]
    },
    {
      "cell_type": "code",
      "source": [
        "## 2 try to reverse a string without using reversed function"
      ],
      "metadata": {
        "id": "IAoTgHJ_K10U"
      },
      "execution_count": null,
      "outputs": []
    },
    {
      "cell_type": "code",
      "source": [
        "s[::-1]"
      ],
      "metadata": {
        "colab": {
          "base_uri": "https://localhost:8080/",
          "height": 35
        },
        "id": "nfDkEh3bGPzL",
        "outputId": "118cfba3-1f30-4720-c3d9-3c34257a001d"
      },
      "execution_count": 5,
      "outputs": [
        {
          "output_type": "execute_result",
          "data": {
            "text/plain": [
              "'gnimmargorp nohtyp tsrif ym si siht '"
            ],
            "application/vnd.google.colaboratory.intrinsic+json": {
              "type": "string"
            }
          },
          "metadata": {},
          "execution_count": 5
        }
      ]
    },
    {
      "cell_type": "code",
      "source": [
        "## 3 try to split a string after conversion of entire string is uppercase"
      ],
      "metadata": {
        "id": "91dSta3oLEBW"
      },
      "execution_count": null,
      "outputs": []
    },
    {
      "cell_type": "code",
      "source": [
        "s1=s.upper().split()"
      ],
      "metadata": {
        "id": "ehnLePpwGp5q"
      },
      "execution_count": 12,
      "outputs": []
    },
    {
      "cell_type": "code",
      "source": [
        "## 4 try to convert whole string into lower case"
      ],
      "metadata": {
        "id": "sEoOeR4uLXh-"
      },
      "execution_count": null,
      "outputs": []
    },
    {
      "cell_type": "code",
      "source": [
        "s.lower()"
      ],
      "metadata": {
        "colab": {
          "base_uri": "https://localhost:8080/",
          "height": 35
        },
        "id": "ymxXdJV4G3ZQ",
        "outputId": "ae484ee0-7d43-4c19-fa24-2591a91a3fc6"
      },
      "execution_count": 7,
      "outputs": [
        {
          "output_type": "execute_result",
          "data": {
            "text/plain": [
              "' this is my first python programming'"
            ],
            "application/vnd.google.colaboratory.intrinsic+json": {
              "type": "string"
            }
          },
          "metadata": {},
          "execution_count": 7
        }
      ]
    },
    {
      "cell_type": "code",
      "source": [
        "## 5 try to capitalize hole string"
      ],
      "metadata": {
        "id": "NASyH8SsLm89"
      },
      "execution_count": null,
      "outputs": []
    },
    {
      "cell_type": "code",
      "source": [
        "s.capitalize()"
      ],
      "metadata": {
        "colab": {
          "base_uri": "https://localhost:8080/",
          "height": 35
        },
        "id": "dIFFV2wzG8M8",
        "outputId": "6389f046-3ba1-4c31-cf5e-2a17e2cb8987"
      },
      "execution_count": 8,
      "outputs": [
        {
          "output_type": "execute_result",
          "data": {
            "text/plain": [
              "' this is my first python programming'"
            ],
            "application/vnd.google.colaboratory.intrinsic+json": {
              "type": "string"
            }
          },
          "metadata": {},
          "execution_count": 8
        }
      ]
    },
    {
      "cell_type": "code",
      "source": [
        "## 6 write a difference between isalnum() and isalpha()"
      ],
      "metadata": {
        "id": "ViQSj3DOLw-l"
      },
      "execution_count": 13,
      "outputs": []
    },
    {
      "cell_type": "code",
      "source": [
        "# isalnum ()-this function checks that if all the characters in the string are alphanumeric yes print oprint true else it\n",
        "#note- spaces in between alphanumeric characters case that output of the code to be false."
      ],
      "metadata": {
        "id": "cr1YexlbHAY8"
      },
      "execution_count": 21,
      "outputs": []
    },
    {
      "cell_type": "code",
      "source": [
        "# isalpha()- this function checks that if all the characters in the string alphabets if yes is print true else is print\n",
        "#note- spaces in between alphabet characters the output of the code to be false\n"
      ],
      "metadata": {
        "id": "KLJF3K1FM2Cb"
      },
      "execution_count": 22,
      "outputs": []
    },
    {
      "cell_type": "code",
      "source": [
        "## 7 try to give eample of expand tab"
      ],
      "metadata": {
        "id": "OTpJaeLeRaS9"
      },
      "execution_count": 23,
      "outputs": []
    },
    {
      "cell_type": "code",
      "source": [
        "#eample of expand tab function"
      ],
      "metadata": {
        "id": "IqHcBlnMRlSp"
      },
      "execution_count": 24,
      "outputs": []
    },
    {
      "cell_type": "code",
      "source": [
        "s2=\"hi i\\t t here\\ t my\\t name\\t is \\t samarth,\\tnice\\tto\\tmeet\\t you\\aditya!!\""
      ],
      "metadata": {
        "id": "_yRWyO-iRuY7"
      },
      "execution_count": 25,
      "outputs": []
    },
    {
      "cell_type": "code",
      "source": [
        "s2.expandtabs() # by default it is 8 spaces per tab"
      ],
      "metadata": {
        "colab": {
          "base_uri": "https://localhost:8080/",
          "height": 35
        },
        "id": "wTVuLWKDSS42",
        "outputId": "094e5350-57ec-48af-b710-9d629b09ead4"
      },
      "execution_count": 30,
      "outputs": [
        {
          "output_type": "execute_result",
          "data": {
            "text/plain": [
              "'hi i     t here\\\\ t my    name    is      samarth,       nice    to      meet     you\\x07ditya!!'"
            ],
            "application/vnd.google.colaboratory.intrinsic+json": {
              "type": "string"
            }
          },
          "metadata": {},
          "execution_count": 30
        }
      ]
    },
    {
      "cell_type": "code",
      "source": [
        "## 8 give and eample of strip,lstrip and r strip"
      ],
      "metadata": {
        "id": "kPYKbWC5SfAP"
      },
      "execution_count": 31,
      "outputs": []
    },
    {
      "cell_type": "code",
      "source": [
        "# 1-example of strip:"
      ],
      "metadata": {
        "id": "TXPozWgyTspU"
      },
      "execution_count": 32,
      "outputs": []
    },
    {
      "cell_type": "code",
      "source": [
        "a=\"@@@2@heyy!!samarth@2@@@\""
      ],
      "metadata": {
        "id": "1EuZ9sHCT6GC"
      },
      "execution_count": 33,
      "outputs": []
    },
    {
      "cell_type": "code",
      "source": [
        "a.strip(\"@2\")# removes all @2 from both the sides"
      ],
      "metadata": {
        "colab": {
          "base_uri": "https://localhost:8080/",
          "height": 35
        },
        "id": "evORzmTMUJ4_",
        "outputId": "995330be-82ed-4175-ea59-1cea3dc0b570"
      },
      "execution_count": 34,
      "outputs": [
        {
          "output_type": "execute_result",
          "data": {
            "text/plain": [
              "'heyy!!samarth'"
            ],
            "application/vnd.google.colaboratory.intrinsic+json": {
              "type": "string"
            }
          },
          "metadata": {},
          "execution_count": 34
        }
      ]
    },
    {
      "cell_type": "code",
      "source": [
        "## 9 replace a stringt character by another charactor by taking your own eample \"your name \""
      ],
      "metadata": {
        "id": "85anpV6RUWKR"
      },
      "execution_count": 35,
      "outputs": []
    },
    {
      "cell_type": "code",
      "source": [
        "name=\"samarth\""
      ],
      "metadata": {
        "id": "hSvoIXqIUs8-"
      },
      "execution_count": 36,
      "outputs": []
    },
    {
      "cell_type": "code",
      "source": [
        "name.replace(\"samarth\",\"raj\")"
      ],
      "metadata": {
        "colab": {
          "base_uri": "https://localhost:8080/",
          "height": 35
        },
        "id": "cjVcKGEkU0NI",
        "outputId": "354ee7ca-8ef8-452a-dd57-7ae5cc0c1afd"
      },
      "execution_count": 37,
      "outputs": [
        {
          "output_type": "execute_result",
          "data": {
            "text/plain": [
              "'raj'"
            ],
            "application/vnd.google.colaboratory.intrinsic+json": {
              "type": "string"
            }
          },
          "metadata": {},
          "execution_count": 37
        }
      ]
    },
    {
      "cell_type": "code",
      "source": [
        "## 10 try to give defination of string centre function ith eample"
      ],
      "metadata": {
        "id": "p7OzEu8WVS4b"
      },
      "execution_count": 38,
      "outputs": []
    },
    {
      "cell_type": "code",
      "source": [
        "# defination"
      ],
      "metadata": {
        "id": "2I-2YxQVVhXh"
      },
      "execution_count": 39,
      "outputs": []
    },
    {
      "cell_type": "code",
      "source": [
        "# centre ()function is used to align the dtring into the centre by adding specified cerectros in both the sides of the string\n",
        "#then the string will be specified width and if the total idth is greater than the length of the string the extra characters\n",
        "#to both sides ( or width on extra either sides if width is an old number or string has old number or string has old number of characters)."
      ],
      "metadata": {
        "id": "IVtTgXZTWDj6"
      },
      "execution_count": 40,
      "outputs": []
    },
    {
      "cell_type": "code",
      "source": [
        "# example"
      ],
      "metadata": {
        "id": "tO1XJG7EXoQ3"
      },
      "execution_count": 41,
      "outputs": []
    },
    {
      "cell_type": "code",
      "source": [
        "b=\"samarth\""
      ],
      "metadata": {
        "id": "eXne2p84Xq4O"
      },
      "execution_count": 42,
      "outputs": []
    },
    {
      "cell_type": "code",
      "source": [
        "b.center(130,\"*\")"
      ],
      "metadata": {
        "colab": {
          "base_uri": "https://localhost:8080/",
          "height": 53
        },
        "id": "0BapqSS0XtOh",
        "outputId": "02e4963d-b403-4b0a-bdb5-845893466577"
      },
      "execution_count": 45,
      "outputs": [
        {
          "output_type": "execute_result",
          "data": {
            "text/plain": [
              "'*************************************************************samarth**************************************************************'"
            ],
            "application/vnd.google.colaboratory.intrinsic+json": {
              "type": "string"
            }
          },
          "metadata": {},
          "execution_count": 45
        }
      ]
    },
    {
      "cell_type": "code",
      "source": [
        "b.center(200,\"*\")"
      ],
      "metadata": {
        "colab": {
          "base_uri": "https://localhost:8080/",
          "height": 53
        },
        "id": "1JO7baGcX1-z",
        "outputId": "931ccceb-2e17-4029-93c1-813cbc9fabf7"
      },
      "execution_count": 48,
      "outputs": [
        {
          "output_type": "execute_result",
          "data": {
            "text/plain": [
              "'************************************************************************************************samarth*************************************************************************************************'"
            ],
            "application/vnd.google.colaboratory.intrinsic+json": {
              "type": "string"
            }
          },
          "metadata": {},
          "execution_count": 48
        }
      ]
    },
    {
      "cell_type": "code",
      "source": [
        "## 11 write the defination of the compailer interoretor in our own wwords."
      ],
      "metadata": {
        "id": "VoqfkdcbYLts"
      },
      "execution_count": 50,
      "outputs": []
    },
    {
      "cell_type": "code",
      "source": [
        "#copiler:=the code which we have written in the program gets converted into binary code(01) by the compiler because the computer knos only binary\n",
        "           # language. so basically compiler converts our code into binary code so that the code gets exicuted by the computer"
      ],
      "metadata": {
        "id": "WCuA2H0-YkEM"
      },
      "execution_count": 53,
      "outputs": []
    },
    {
      "cell_type": "code",
      "source": [
        "#interpretor-it reads our code line by line and executs it immediately in a sequence manner and interprinting the code at the run time.\n"
      ],
      "metadata": {
        "id": "VHKoOaLnZk7o"
      },
      "execution_count": 55,
      "outputs": []
    },
    {
      "cell_type": "code",
      "source": [
        "##  12 python is an interpreted of compiled language give clear ans."
      ],
      "metadata": {
        "id": "p6rvx-0YaVxY"
      },
      "execution_count": 56,
      "outputs": []
    },
    {
      "cell_type": "code",
      "source": [
        "# python code is executed by an interpreter like CPython which reads and executes the code line by line runtime.this is why python .\n",
        "# is considered an interpreted language."
      ],
      "metadata": {
        "id": "GGIrQrDYbAyP"
      },
      "execution_count": 59,
      "outputs": []
    },
    {
      "cell_type": "code",
      "source": [
        "## 13 try to write a usecase of python ith your understanding .\n"
      ],
      "metadata": {
        "id": "DUw98jLTcAGx"
      },
      "execution_count": 60,
      "outputs": []
    },
    {
      "cell_type": "code",
      "source": [
        "# there are many usecase of python such as :"
      ],
      "metadata": {
        "id": "DQKBTrLQciE-"
      },
      "execution_count": 61,
      "outputs": []
    },
    {
      "cell_type": "code",
      "source": [
        "#1.python is used in cybersecurity.\n",
        "#2.python is used in web development\n",
        "#3.python is used in data analysis and mashin learning .\n",
        "#4.python is used in AI \\\n",
        "#5.python is used in internet of things.\n",
        "#6.python is used in cloud computing.\n",
        "#7.python is used in game development .\n",
        "#8.python is used in blockchain development."
      ],
      "metadata": {
        "id": "qrzUCuHTcp3t"
      },
      "execution_count": 63,
      "outputs": []
    },
    {
      "cell_type": "code",
      "source": [
        "\n"
      ],
      "metadata": {
        "id": "stFB0fBAc2wl"
      },
      "execution_count": null,
      "outputs": []
    }
  ]
}